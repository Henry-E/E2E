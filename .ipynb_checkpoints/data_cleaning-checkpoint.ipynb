{
 "cells": [
  {
   "cell_type": "code",
   "execution_count": 41,
   "metadata": {
    "collapsed": true
   },
   "outputs": [],
   "source": [
    "import os\n",
    "import re\n",
    "import csv\n",
    "import subprocess\n",
    "from nltk.tokenize.moses import MosesTokenizer\n",
    "# These are both modules that I need to create files for in the folder\n",
    "from apply_bpe import BPE\n",
    "import build_data\n",
    "\n",
    "\n",
    "def create_source_target_files(input_file):\n",
    "    return\n",
    "\n",
    "# TODO apply this to the training data\n",
    "\n",
    "def create_bpe_dict(input_file, num_operations):\n",
    "    # Inputs\n",
    "    # file name\n",
    "    # TODO BPE size\n",
    "    word_tok = MosesTokenizer()\n",
    "    def tokenize(text):\n",
    "        word_tokens = word_tok.tokenize(text)\n",
    "        # I do feel like I should name the second\n",
    "        # variable something other than word_tokens\n",
    "        word_tokens = ' '.join(word_tokens)\n",
    "        return word_tokens\n",
    "    outpath = os.path.dirname(input_file)\n",
    "    file_name = os.path.basename(os.path.splitext(input_file)[0])\n",
    "    bpe_input_file = open(os.path.join(outpath, file_name + '-bpe-input.txt'), 'w')\n",
    "    input_csv = csv.reader(open(input_file, newline=''), delimiter=',', quotechar='\"')\n",
    "    # skip the first line in the csv with the column headers\n",
    "    next(input_csv)\n",
    "#     from IPython.core.debugger import Tracer; Tracer()()\n",
    "    for line in input_csv:\n",
    "        meaning_representations = line[0].split(', ')\n",
    "        acts_tokenized = []\n",
    "        for act in meaning_representations:\n",
    "            # https://stackoverflow.com/a/4894156/4507677 - instead of regex\n",
    "            acts_tokenized += [tokenize(act[act.find(\"[\")+1:act.find(\"]\")])]\n",
    "        acts = ' '.join(acts_tokenized)\n",
    "        target = tokenize(line[1])\n",
    "        bpe_input_file.write(acts + '\\n' + target + '\\n')\n",
    "    bpe_input_file.close()\n",
    "    # ./learn_bpe.py -s {num_operations} < {train_file} > {codes_file}\n",
    "    subprocess.run(['./learn_bpe.py', '-s', str(num_operations), '<', os.path.join(outpath, file_name + '-bpe-input.txt'),\n",
    "                   '>', os.path.join(outpath, file_name + '.' + str(num_operations) + '.bpe.codes') ])\n",
    "\n",
    "        \n",
    "        \n",
    "    \n",
    "\n",
    "def build(dpath):\n",
    "    # dpath = ./data\n",
    "    # http://www.macs.hw.ac.uk/InteractionLab/E2E/data/traindev.zip\n",
    "    if not build_data.built(dpath):\n",
    "        print('building data')\n",
    "        if build_data.built(dpath):\n",
    "            # An older version exists, so remove the outdated files\n",
    "            # TODO it would be better if this just removed the cleaning \n",
    "            # steps rather than forcing it to redownload the data again\n",
    "            build_data.remove_dir(dpath)\n",
    "        # Download the training and validation data\n",
    "        fname = 'traindev.zip'\n",
    "        url = 'http://www.macs.hw.ac.uk/InteractionLab/E2E/data/' + fname\n",
    "        build_data.download(url, dpath, fname)\n",
    "        build_data.untar(dpath, fname)\n",
    "        \n",
    "        # TODO create BPE dict\n",
    "        create_source_target_files(os.path.join(dpath, \"trainset.csv\"))\n",
    "        # TODO Create NEMATUS dict, might not work in python 3\n",
    "    \n"
   ]
  },
  {
   "cell_type": "code",
   "execution_count": 9,
   "metadata": {
    "collapsed": false
   },
   "outputs": [
    {
     "name": "stdout",
     "output_type": "stream",
     "text": [
      "[........................................] 32768 / 1394348\r",
      "[|.......................................] 65536 / 1394348\r",
      "[||......................................] 98304 / 1394348\r",
      "[|||.....................................] 131072 / 1394348\r",
      "[||||....................................] 163840 / 1394348\r",
      "[|||||...................................] 196608 / 1394348\r",
      "[||||||..................................] 229376 / 1394348\r",
      "[|||||||.................................] 262144 / 1394348\r",
      "[||||||||................................] 294912 / 1394348\r",
      "[|||||||||...............................] 327680 / 1394348\r",
      "[||||||||||..............................] 360448 / 1394348\r",
      "[|||||||||||.............................] 393216 / 1394348\r",
      "[||||||||||||............................] 425984 / 1394348\r",
      "[|||||||||||||...........................] 458752 / 1394348\r",
      "[||||||||||||||..........................] 491520 / 1394348\r",
      "[|||||||||||||||.........................] 524288 / 1394348\r",
      "[|||||||||||||||.........................] 557056 / 1394348\r",
      "[||||||||||||||||........................] 589824 / 1394348\r",
      "[|||||||||||||||||.......................] 622592 / 1394348\r",
      "[||||||||||||||||||......................] 655360 / 1394348\r",
      "[|||||||||||||||||||.....................] 688128 / 1394348\r",
      "[||||||||||||||||||||....................] 720896 / 1394348\r",
      "[|||||||||||||||||||||...................] 753664 / 1394348\r",
      "[||||||||||||||||||||||..................] 786432 / 1394348\r",
      "[|||||||||||||||||||||||.................] 819200 / 1394348\r",
      "[||||||||||||||||||||||||................] 851968 / 1394348\r",
      "[|||||||||||||||||||||||||...............] 884736 / 1394348\r",
      "[||||||||||||||||||||||||||..............] 917504 / 1394348\r",
      "[|||||||||||||||||||||||||||.............] 950272 / 1394348\r",
      "[||||||||||||||||||||||||||||............] 983040 / 1394348\r",
      "[|||||||||||||||||||||||||||||...........] 1015808 / 1394348\r",
      "[||||||||||||||||||||||||||||||..........] 1048576 / 1394348\r",
      "[|||||||||||||||||||||||||||||||.........] 1081344 / 1394348\r",
      "[|||||||||||||||||||||||||||||||.........] 1114112 / 1394348\r",
      "[||||||||||||||||||||||||||||||||........] 1146880 / 1394348\r",
      "[|||||||||||||||||||||||||||||||||.......] 1179648 / 1394348\r",
      "[||||||||||||||||||||||||||||||||||......] 1212416 / 1394348\r",
      "[|||||||||||||||||||||||||||||||||||.....] 1245184 / 1394348\r",
      "[||||||||||||||||||||||||||||||||||||....] 1277952 / 1394348\r",
      "[|||||||||||||||||||||||||||||||||||||...] 1310720 / 1394348\r",
      "[||||||||||||||||||||||||||||||||||||||..] 1343488 / 1394348\r",
      "[|||||||||||||||||||||||||||||||||||||||.] 1376256 / 1394348\r",
      "[||||||||||||||||||||||||||||||||||||||||] 1394348 / 1394348\r\n",
      "unpacking traindev.zip\n"
     ]
    }
   ],
   "source": [
    "dpath = \"./data\"\n",
    "build_data.make_dir(dpath)\n",
    "fname = 'traindev.zip'\n",
    "url = 'http://www.macs.hw.ac.uk/InteractionLab/E2E/data/' + fname\n",
    "build_data.download(url, dpath, fname)\n",
    "build_data.untar(dpath, fname)"
   ]
  },
  {
   "cell_type": "code",
   "execution_count": 10,
   "metadata": {
    "collapsed": true
   },
   "outputs": [],
   "source": [
    "input_file = os.path.join(dpath, \"trainset.csv\")"
   ]
  },
  {
   "cell_type": "code",
   "execution_count": 11,
   "metadata": {
    "collapsed": false
   },
   "outputs": [
    {
     "data": {
      "text/plain": [
       "'./data/trainset.csv'"
      ]
     },
     "execution_count": 11,
     "metadata": {},
     "output_type": "execute_result"
    }
   ],
   "source": [
    "input_file"
   ]
  },
  {
   "cell_type": "code",
   "execution_count": 16,
   "metadata": {
    "collapsed": false
   },
   "outputs": [],
   "source": [
    "this = csv.reader(open('./data/devset.csv', newline=''), delimiter=',', quotechar='\"')\n",
    "# skip the first line in the csv with the column headers\n",
    "next(this)\n",
    "for hello in this:\n",
    "    wayo = hello"
   ]
  },
  {
   "cell_type": "code",
   "execution_count": 21,
   "metadata": {
    "collapsed": false
   },
   "outputs": [
    {
     "data": {
      "text/plain": [
       "['name[Wildwood]',\n",
       " 'eatType[coffee shop]',\n",
       " 'food[English]',\n",
       " 'priceRange[moderate]',\n",
       " 'customer rating[3 out of 5]',\n",
       " 'near[Ranch]']"
      ]
     },
     "execution_count": 21,
     "metadata": {},
     "output_type": "execute_result"
    }
   ],
   "source": [
    "wayo[0].split(\", \")"
   ]
  },
  {
   "cell_type": "code",
   "execution_count": 25,
   "metadata": {
    "collapsed": false
   },
   "outputs": [
    {
     "name": "stdout",
     "output_type": "stream",
     "text": [
      "Wildwood\n",
      "coffee shop\n",
      "English\n",
      "moderate\n",
      "3 out of 5\n",
      "Ranch\n"
     ]
    }
   ],
   "source": [
    "# TODO turn this into a list, join them together, tokenise it, join it back together and send to the file\n",
    "for act in wayo[0].split(\", \"):\n",
    "    print(act[act.find(\"[\")+1:act.find(\"]\")])"
   ]
  },
  {
   "cell_type": "code",
   "execution_count": 31,
   "metadata": {
    "collapsed": false
   },
   "outputs": [
    {
     "data": {
      "text/plain": [
       "'Wildwood is a moderately priced English coffee shop located near the Ranch . It has been rated 3 out of 5 .'"
      ]
     },
     "execution_count": 31,
     "metadata": {},
     "output_type": "execute_result"
    }
   ],
   "source": [
    "' '.join(MosesTokenizer().tokenize(wayo[1]))"
   ]
  },
  {
   "cell_type": "code",
   "execution_count": 42,
   "metadata": {
    "collapsed": false
   },
   "outputs": [
    {
     "ename": "PermissionError",
     "evalue": "[Errno 13] Permission denied",
     "output_type": "error",
     "traceback": [
      "\u001b[0;31m---------------------------------------------------------------------------\u001b[0m",
      "\u001b[0;31mPermissionError\u001b[0m                           Traceback (most recent call last)",
      "\u001b[0;32m<ipython-input-42-4f971e4df24a>\u001b[0m in \u001b[0;36m<module>\u001b[0;34m()\u001b[0m\n\u001b[0;32m----> 1\u001b[0;31m \u001b[0mcreate_bpe_dict\u001b[0m\u001b[0;34m(\u001b[0m\u001b[0;34m'./data/devset.csv'\u001b[0m\u001b[0;34m,\u001b[0m \u001b[0;36m2000\u001b[0m\u001b[0;34m)\u001b[0m\u001b[0;34m\u001b[0m\u001b[0m\n\u001b[0m",
      "\u001b[0;32m<ipython-input-41-b8ff21cf908c>\u001b[0m in \u001b[0;36mcreate_bpe_dict\u001b[0;34m(input_file, num_operations)\u001b[0m\n\u001b[1;32m     44\u001b[0m     \u001b[0;31m# ./learn_bpe.py -s {num_operations} < {train_file} > {codes_file}\u001b[0m\u001b[0;34m\u001b[0m\u001b[0;34m\u001b[0m\u001b[0m\n\u001b[1;32m     45\u001b[0m     subprocess.run(['./learn_bpe.py', '-s', str(num_operations), '<', os.path.join(outpath, file_name + '-bpe-input.txt'),\n\u001b[0;32m---> 46\u001b[0;31m                    '>', os.path.join(outpath, file_name + '.' + str(num_operations) + '.bpe.codes') ])\n\u001b[0m\u001b[1;32m     47\u001b[0m \u001b[0;34m\u001b[0m\u001b[0m\n\u001b[1;32m     48\u001b[0m \u001b[0;34m\u001b[0m\u001b[0m\n",
      "\u001b[0;32m/home/henrye/anaconda3/lib/python3.6/subprocess.py\u001b[0m in \u001b[0;36mrun\u001b[0;34m(input, timeout, check, *popenargs, **kwargs)\u001b[0m\n\u001b[1;32m    401\u001b[0m         \u001b[0mkwargs\u001b[0m\u001b[0;34m[\u001b[0m\u001b[0;34m'stdin'\u001b[0m\u001b[0;34m]\u001b[0m \u001b[0;34m=\u001b[0m \u001b[0mPIPE\u001b[0m\u001b[0;34m\u001b[0m\u001b[0m\n\u001b[1;32m    402\u001b[0m \u001b[0;34m\u001b[0m\u001b[0m\n\u001b[0;32m--> 403\u001b[0;31m     \u001b[0;32mwith\u001b[0m \u001b[0mPopen\u001b[0m\u001b[0;34m(\u001b[0m\u001b[0;34m*\u001b[0m\u001b[0mpopenargs\u001b[0m\u001b[0;34m,\u001b[0m \u001b[0;34m**\u001b[0m\u001b[0mkwargs\u001b[0m\u001b[0;34m)\u001b[0m \u001b[0;32mas\u001b[0m \u001b[0mprocess\u001b[0m\u001b[0;34m:\u001b[0m\u001b[0;34m\u001b[0m\u001b[0m\n\u001b[0m\u001b[1;32m    404\u001b[0m         \u001b[0;32mtry\u001b[0m\u001b[0;34m:\u001b[0m\u001b[0;34m\u001b[0m\u001b[0m\n\u001b[1;32m    405\u001b[0m             \u001b[0mstdout\u001b[0m\u001b[0;34m,\u001b[0m \u001b[0mstderr\u001b[0m \u001b[0;34m=\u001b[0m \u001b[0mprocess\u001b[0m\u001b[0;34m.\u001b[0m\u001b[0mcommunicate\u001b[0m\u001b[0;34m(\u001b[0m\u001b[0minput\u001b[0m\u001b[0;34m,\u001b[0m \u001b[0mtimeout\u001b[0m\u001b[0;34m=\u001b[0m\u001b[0mtimeout\u001b[0m\u001b[0;34m)\u001b[0m\u001b[0;34m\u001b[0m\u001b[0m\n",
      "\u001b[0;32m/home/henrye/anaconda3/lib/python3.6/subprocess.py\u001b[0m in \u001b[0;36m__init__\u001b[0;34m(self, args, bufsize, executable, stdin, stdout, stderr, preexec_fn, close_fds, shell, cwd, env, universal_newlines, startupinfo, creationflags, restore_signals, start_new_session, pass_fds, encoding, errors)\u001b[0m\n\u001b[1;32m    705\u001b[0m                                 \u001b[0mc2pread\u001b[0m\u001b[0;34m,\u001b[0m \u001b[0mc2pwrite\u001b[0m\u001b[0;34m,\u001b[0m\u001b[0;34m\u001b[0m\u001b[0m\n\u001b[1;32m    706\u001b[0m                                 \u001b[0merrread\u001b[0m\u001b[0;34m,\u001b[0m \u001b[0merrwrite\u001b[0m\u001b[0;34m,\u001b[0m\u001b[0;34m\u001b[0m\u001b[0m\n\u001b[0;32m--> 707\u001b[0;31m                                 restore_signals, start_new_session)\n\u001b[0m\u001b[1;32m    708\u001b[0m         \u001b[0;32mexcept\u001b[0m\u001b[0;34m:\u001b[0m\u001b[0;34m\u001b[0m\u001b[0m\n\u001b[1;32m    709\u001b[0m             \u001b[0;31m# Cleanup if the child failed starting.\u001b[0m\u001b[0;34m\u001b[0m\u001b[0;34m\u001b[0m\u001b[0m\n",
      "\u001b[0;32m/home/henrye/anaconda3/lib/python3.6/subprocess.py\u001b[0m in \u001b[0;36m_execute_child\u001b[0;34m(self, args, executable, preexec_fn, close_fds, pass_fds, cwd, env, startupinfo, creationflags, shell, p2cread, p2cwrite, c2pread, c2pwrite, errread, errwrite, restore_signals, start_new_session)\u001b[0m\n\u001b[1;32m   1324\u001b[0m                             \u001b[0;32melse\u001b[0m\u001b[0;34m:\u001b[0m\u001b[0;34m\u001b[0m\u001b[0m\n\u001b[1;32m   1325\u001b[0m                                 \u001b[0merr_msg\u001b[0m \u001b[0;34m+=\u001b[0m \u001b[0;34m': '\u001b[0m \u001b[0;34m+\u001b[0m \u001b[0mrepr\u001b[0m\u001b[0;34m(\u001b[0m\u001b[0morig_executable\u001b[0m\u001b[0;34m)\u001b[0m\u001b[0;34m\u001b[0m\u001b[0m\n\u001b[0;32m-> 1326\u001b[0;31m                     \u001b[0;32mraise\u001b[0m \u001b[0mchild_exception_type\u001b[0m\u001b[0;34m(\u001b[0m\u001b[0merrno_num\u001b[0m\u001b[0;34m,\u001b[0m \u001b[0merr_msg\u001b[0m\u001b[0;34m)\u001b[0m\u001b[0;34m\u001b[0m\u001b[0m\n\u001b[0m\u001b[1;32m   1327\u001b[0m                 \u001b[0;32mraise\u001b[0m \u001b[0mchild_exception_type\u001b[0m\u001b[0;34m(\u001b[0m\u001b[0merr_msg\u001b[0m\u001b[0;34m)\u001b[0m\u001b[0;34m\u001b[0m\u001b[0m\n\u001b[1;32m   1328\u001b[0m \u001b[0;34m\u001b[0m\u001b[0m\n",
      "\u001b[0;31mPermissionError\u001b[0m: [Errno 13] Permission denied"
     ]
    }
   ],
   "source": [
    "create_bpe_dict('./data/devset.csv', 2000)"
   ]
  },
  {
   "cell_type": "code",
   "execution_count": null,
   "metadata": {
    "collapsed": true
   },
   "outputs": [],
   "source": []
  }
 ],
 "metadata": {
  "kernelspec": {
   "display_name": "Python 3",
   "language": "python",
   "name": "python3"
  },
  "language_info": {
   "codemirror_mode": {
    "name": "ipython",
    "version": 3
   },
   "file_extension": ".py",
   "mimetype": "text/x-python",
   "name": "python",
   "nbconvert_exporter": "python",
   "pygments_lexer": "ipython3",
   "version": "3.6.0"
  }
 },
 "nbformat": 4,
 "nbformat_minor": 2
}
