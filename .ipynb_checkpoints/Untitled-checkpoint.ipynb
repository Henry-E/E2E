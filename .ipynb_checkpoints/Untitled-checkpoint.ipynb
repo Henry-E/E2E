{
 "cells": [
  {
   "cell_type": "code",
   "execution_count": 2,
   "metadata": {},
   "outputs": [],
   "source": [
    "# https://stackoverflow.com/questions/18448847/import-txt-file-and-having-each-line-as-a-list\n",
    "def fileToListOfLists(fileName):\n",
    "    results = []\n",
    "    with open(fileName) as inputfile:\n",
    "        for line in inputfile:\n",
    "            results.append(line.strip().split(' '))\n",
    "    return results"
   ]
  },
  {
   "cell_type": "code",
   "execution_count": 4,
   "metadata": {},
   "outputs": [],
   "source": [
    "train_set_additional_words = fileToListOfLists('/home/henrye/projects/E2E/data/trainset-additional-words-source.tok.filter')\n",
    "dev_set_additional_words = fileToListOfLists('/home/henrye/projects/E2E/data/devset-additional-words-source.tok.filter')\n",
    "test_set_additional_words = fileToListOfLists('/home/henrye/projects/E2E/data/test_e2e-additional-words-source.tok')"
   ]
  },
  {
   "cell_type": "code",
   "execution_count": null,
   "metadata": {},
   "outputs": [],
   "source": []
  }
 ],
 "metadata": {
  "kernelspec": {
   "display_name": "Python 3",
   "language": "python",
   "name": "python3"
  },
  "language_info": {
   "codemirror_mode": {
    "name": "ipython",
    "version": 3
   },
   "file_extension": ".py",
   "mimetype": "text/x-python",
   "name": "python",
   "nbconvert_exporter": "python",
   "pygments_lexer": "ipython3",
   "version": "3.6.2"
  }
 },
 "nbformat": 4,
 "nbformat_minor": 2
}
